{
 "cells": [
  {
   "cell_type": "code",
   "execution_count": null,
   "id": "61df8d20",
   "metadata": {},
   "outputs": [],
   "source": [
    "import os\n",
    "\n",
    "os.environ[\"HF_ENDPOINT\"] = \"https://hf-mirror.com\""
   ]
  },
  {
   "cell_type": "code",
   "execution_count": null,
   "id": "9e0b64f1",
   "metadata": {},
   "outputs": [],
   "source": [
    "from datasets import load_dataset\n",
    "\n",
    "dataset = load_dataset('zen-E/GSM8k-Aug')\n"
   ]
  },
  {
   "cell_type": "code",
   "execution_count": null,
   "id": "fe83553f",
   "metadata": {},
   "outputs": [],
   "source": [
    "len_list = []\n",
    "for i in range(len(dataset['test'])):\n",
    "    len_list.append(len(dataset[\"test\"][i]['cot'].split(\" \")))\n",
    "\n",
    "max(len_list)"
   ]
  },
  {
   "cell_type": "code",
   "execution_count": null,
   "id": "2404977c",
   "metadata": {},
   "outputs": [],
   "source": [
    "import json\n",
    "import re\n",
    "\n",
    "def parse_cot_to_steps(cot_text):\n",
    "    \"\"\"\n",
    "    将 <<a=1>> <<b=2>> 格式的 cot 文本解析为字符串列表\n",
    "    \"\"\"\n",
    "    steps = re.findall(r'(<<[^>>]+>>)', cot_text)\n",
    "    return steps\n",
    "\n",
    "def save_dataset_to_jsonl(dataset_split, filename):\n",
    "    with open(filename, 'w', encoding='utf-8') as f:\n",
    "        for example in dataset_split:\n",
    "            cot_steps = parse_cot_to_steps(example['cot'])\n",
    "            \n",
    "            new_example = {\n",
    "                'question': example['question'],\n",
    "                # 'cot': example['cot'],\n",
    "                'cot_steps': cot_steps,\n",
    "                'answer': example['answer']\n",
    "            }\n",
    "            \n",
    "            f.write(json.dumps(new_example, ensure_ascii=False) + '\\n')\n",
    "    print(f\"✅ 已保存 {len(dataset_split)} 条数据到 {filename}\")\n"
   ]
  },
  {
   "cell_type": "code",
   "execution_count": null,
   "id": "2ad7aa19",
   "metadata": {},
   "outputs": [],
   "source": [
    "save_dataset_to_jsonl(dataset['train'], '../data/gsm8k_aug_train.jsonl')\n",
    "save_dataset_to_jsonl(dataset['test'], '../data/gsm8k_aug_test.jsonl')"
   ]
  }
 ],
 "metadata": {
  "kernelspec": {
   "display_name": "llm",
   "language": "python",
   "name": "python3"
  },
  "language_info": {
   "codemirror_mode": {
    "name": "ipython",
    "version": 3
   },
   "file_extension": ".py",
   "mimetype": "text/x-python",
   "name": "python",
   "nbconvert_exporter": "python",
   "pygments_lexer": "ipython3",
   "version": "3.11.13"
  }
 },
 "nbformat": 4,
 "nbformat_minor": 5
}
